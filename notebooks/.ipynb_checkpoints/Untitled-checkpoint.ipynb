{
 "cells": [
  {
   "cell_type": "code",
   "execution_count": 4,
   "id": "d640333c-b2bf-4021-9d79-17d627c3dfd0",
   "metadata": {},
   "outputs": [],
   "source": [
    "import layoutparser as lp\n",
    "import glob\n",
    "import cv2"
   ]
  },
  {
   "cell_type": "code",
   "execution_count": 25,
   "id": "a41430b2-f170-4840-8426-9fe534fa0c7e",
   "metadata": {},
   "outputs": [],
   "source": [
    "pdf_out = lp.load_pdf(filename = glob.glob('../data/raw_reports/*.pdf')[0])"
   ]
  },
  {
   "cell_type": "code",
   "execution_count": 34,
   "id": "2526c890-a5e6-4049-92ef-c7c37420dd00",
   "metadata": {},
   "outputs": [],
   "source": [
    "# lp.load_pdf?"
   ]
  },
  {
   "cell_type": "code",
   "execution_count": 20,
   "id": "9abc805c-5666-4935-a97b-51ad3848ab36",
   "metadata": {},
   "outputs": [
    {
     "data": {
      "text/plain": [
       "3"
      ]
     },
     "execution_count": 20,
     "metadata": {},
     "output_type": "execute_result"
    }
   ],
   "source": [
    "len(pdf_out)"
   ]
  },
  {
   "cell_type": "raw",
   "id": "33cc8b51-ac28-4e66-950c-750dc59df3d9",
   "metadata": {},
   "source": [
    "pdf_out[0].get_texts()"
   ]
  },
  {
   "cell_type": "code",
   "execution_count": 29,
   "id": "71976a32-3bff-4a6d-b056-630c45579b54",
   "metadata": {},
   "outputs": [
    {
     "data": {
      "text/plain": [
       "['__abstractmethods__',\n",
       " '__add__',\n",
       " '__class__',\n",
       " '__class_getitem__',\n",
       " '__contains__',\n",
       " '__delattr__',\n",
       " '__delitem__',\n",
       " '__dict__',\n",
       " '__dir__',\n",
       " '__doc__',\n",
       " '__eq__',\n",
       " '__format__',\n",
       " '__ge__',\n",
       " '__getattribute__',\n",
       " '__getitem__',\n",
       " '__gt__',\n",
       " '__hash__',\n",
       " '__iadd__',\n",
       " '__init__',\n",
       " '__init_subclass__',\n",
       " '__iter__',\n",
       " '__le__',\n",
       " '__len__',\n",
       " '__lt__',\n",
       " '__module__',\n",
       " '__ne__',\n",
       " '__new__',\n",
       " '__reduce__',\n",
       " '__reduce_ex__',\n",
       " '__repr__',\n",
       " '__reversed__',\n",
       " '__setattr__',\n",
       " '__setitem__',\n",
       " '__sizeof__',\n",
       " '__slots__',\n",
       " '__str__',\n",
       " '__subclasshook__',\n",
       " '__weakref__',\n",
       " '_abc_impl',\n",
       " 'append',\n",
       " 'clear',\n",
       " 'condition_on',\n",
       " 'copy',\n",
       " 'count',\n",
       " 'crop_image',\n",
       " 'extend',\n",
       " 'filter_by',\n",
       " 'get_homogeneous_blocks',\n",
       " 'get_info',\n",
       " 'get_texts',\n",
       " 'index',\n",
       " 'insert',\n",
       " 'is_in',\n",
       " 'pad',\n",
       " 'pop',\n",
       " 'relative_to',\n",
       " 'remove',\n",
       " 'reverse',\n",
       " 'scale',\n",
       " 'shift',\n",
       " 'sort',\n",
       " 'to_dataframe',\n",
       " 'to_dict']"
      ]
     },
     "execution_count": 29,
     "metadata": {},
     "output_type": "execute_result"
    }
   ],
   "source": [
    "dir(lp.elements.layout.Layout)"
   ]
  },
  {
   "cell_type": "code",
   "execution_count": 33,
   "id": "03e88273-744f-4ac6-ab97-904b0ec866b2",
   "metadata": {},
   "outputs": [
    {
     "data": {
      "text/plain": [
       "\u001b[1;31mSignature:\u001b[0m\n",
       "\u001b[0mlp\u001b[0m\u001b[1;33m.\u001b[0m\u001b[0melements\u001b[0m\u001b[1;33m.\u001b[0m\u001b[0mlayout\u001b[0m\u001b[1;33m.\u001b[0m\u001b[0mLayout\u001b[0m\u001b[1;33m.\u001b[0m\u001b[0mfilter_by\u001b[0m\u001b[1;33m(\u001b[0m\u001b[1;33m\n",
       "\u001b[0m    \u001b[0mself\u001b[0m\u001b[1;33m,\u001b[0m\u001b[1;33m\n",
       "\u001b[0m    \u001b[0mother\u001b[0m\u001b[1;33m,\u001b[0m\u001b[1;33m\n",
       "\u001b[0m    \u001b[0msoft_margin\u001b[0m\u001b[1;33m=\u001b[0m\u001b[1;33m{\u001b[0m\u001b[1;33m}\u001b[0m\u001b[1;33m,\u001b[0m\u001b[1;33m\n",
       "\u001b[0m    \u001b[0mcenter\u001b[0m\u001b[1;33m=\u001b[0m\u001b[1;32mFalse\u001b[0m\u001b[1;33m,\u001b[0m\u001b[1;33m\n",
       "\u001b[0m\u001b[1;33m)\u001b[0m\u001b[1;33m\u001b[0m\u001b[1;33m\u001b[0m\u001b[0m\n",
       "\u001b[1;31mDocstring:\u001b[0m\n",
       "Return a `Layout` object containing the elements that are in the `other` object.\n",
       "\n",
       "Args:\n",
       "    other (:obj:`BaseCoordElement`):\n",
       "        The block to filter the current elements.\n",
       "\n",
       "Returns:\n",
       "    :obj:`Layout`:\n",
       "        A new layout object after filtering.\n",
       "\u001b[1;31mFile:\u001b[0m      c:\\users\\elias\\anaconda3\\lib\\site-packages\\layoutparser\\elements\\layout.py\n",
       "\u001b[1;31mType:\u001b[0m      function"
      ]
     },
     "metadata": {},
     "output_type": "display_data"
    }
   ],
   "source": [
    "lp.elements.layout.Layout.filter_by?"
   ]
  },
  {
   "cell_type": "code",
   "execution_count": null,
   "id": "ba255815-8800-4a0d-a951-d213a5ed43d5",
   "metadata": {},
   "outputs": [],
   "source": []
  }
 ],
 "metadata": {
  "kernelspec": {
   "display_name": "Python 3 (ipykernel)",
   "language": "python",
   "name": "python3"
  },
  "language_info": {
   "codemirror_mode": {
    "name": "ipython",
    "version": 3
   },
   "file_extension": ".py",
   "mimetype": "text/x-python",
   "name": "python",
   "nbconvert_exporter": "python",
   "pygments_lexer": "ipython3",
   "version": "3.9.7"
  }
 },
 "nbformat": 4,
 "nbformat_minor": 5
}
