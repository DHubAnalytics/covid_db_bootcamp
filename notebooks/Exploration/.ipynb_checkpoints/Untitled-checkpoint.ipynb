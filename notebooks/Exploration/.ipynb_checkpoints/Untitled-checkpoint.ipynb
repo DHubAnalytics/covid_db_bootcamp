{
 "cells": [
  {
   "cell_type": "code",
   "execution_count": 59,
   "id": "d640333c-b2bf-4021-9d79-17d627c3dfd0",
   "metadata": {},
   "outputs": [],
   "source": [
    "import pdfplumber\n",
    "import glob\n",
    "import re\n",
    "import os\n",
    "import csv"
   ]
  },
  {
   "cell_type": "code",
   "execution_count": 60,
   "id": "a41430b2-f170-4840-8426-9fe534fa0c7e",
   "metadata": {},
   "outputs": [],
   "source": [
    "files_ = glob.glob('../data/raw_reports/*.pdf')\n",
    "\n",
    "for f in files_:\n",
    "    pat = re.search(r'(\\d){8}', f)\n",
    "    idd = pat.group(0)\n",
    "    with pdfplumber.open(f) as rf:\n",
    "        with open(f'../data/cases_db/{idd}.csv', 'w', newline='', encoding='utf-8') as wf:\n",
    "            tab = rf.pages[0].extract_table()\n",
    "\n",
    "            writer = csv.writer(wf)\n",
    "            writer.writerows(tab)    "
   ]
  },
  {
   "cell_type": "code",
   "execution_count": null,
   "id": "2526c890-a5e6-4049-92ef-c7c37420dd00",
   "metadata": {},
   "outputs": [],
   "source": []
  }
 ],
 "metadata": {
  "kernelspec": {
   "display_name": "Python 3 (ipykernel)",
   "language": "python",
   "name": "python3"
  },
  "language_info": {
   "codemirror_mode": {
    "name": "ipython",
    "version": 3
   },
   "file_extension": ".py",
   "mimetype": "text/x-python",
   "name": "python",
   "nbconvert_exporter": "python",
   "pygments_lexer": "ipython3",
   "version": "3.9.7"
  }
 },
 "nbformat": 4,
 "nbformat_minor": 5
}
