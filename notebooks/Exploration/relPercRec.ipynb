{
 "cells": [
  {
   "cell_type": "code",
   "execution_count": 1,
   "id": "2f647f0a-238d-448b-8d8f-0c57179f1e9a",
   "metadata": {},
   "outputs": [],
   "source": [
    "import pandas as pd\n",
    "import numpy as np\n",
    "\n",
    "\n",
    "dates = pd.date_range(\n",
    "    start = '2021/01/01',\n",
    "    end = '2021/12/31',\n",
    "    freq = 'D'\n",
    ")\n",
    "\n",
    "df = pd.DataFrame(\n",
    "    {\n",
    "        'date': dates,\n",
    "        'variant' : np.random.choice(\n",
    "            ['A', 'B', 'C', 'D', 'E'],\n",
    "            p = [0.3, 0.3, 0.2, 0.1, 0.1],\n",
    "            size = len(dates)\n",
    "        )\n",
    "        \n",
    "    }\n",
    ")"
   ]
  },
  {
   "cell_type": "code",
   "execution_count": 2,
   "id": "337e3437-7fa1-442a-9a2f-27552b9fb4f8",
   "metadata": {},
   "outputs": [
    {
     "data": {
      "text/html": [
       "<div>\n",
       "<style scoped>\n",
       "    .dataframe tbody tr th:only-of-type {\n",
       "        vertical-align: middle;\n",
       "    }\n",
       "\n",
       "    .dataframe tbody tr th {\n",
       "        vertical-align: top;\n",
       "    }\n",
       "\n",
       "    .dataframe thead th {\n",
       "        text-align: right;\n",
       "    }\n",
       "</style>\n",
       "<table border=\"1\" class=\"dataframe\">\n",
       "  <thead>\n",
       "    <tr style=\"text-align: right;\">\n",
       "      <th></th>\n",
       "      <th>date</th>\n",
       "      <th>variant</th>\n",
       "    </tr>\n",
       "  </thead>\n",
       "  <tbody>\n",
       "    <tr>\n",
       "      <th>0</th>\n",
       "      <td>2021-01-01</td>\n",
       "      <td>A</td>\n",
       "    </tr>\n",
       "    <tr>\n",
       "      <th>1</th>\n",
       "      <td>2021-01-02</td>\n",
       "      <td>A</td>\n",
       "    </tr>\n",
       "    <tr>\n",
       "      <th>2</th>\n",
       "      <td>2021-01-03</td>\n",
       "      <td>B</td>\n",
       "    </tr>\n",
       "    <tr>\n",
       "      <th>3</th>\n",
       "      <td>2021-01-04</td>\n",
       "      <td>B</td>\n",
       "    </tr>\n",
       "    <tr>\n",
       "      <th>4</th>\n",
       "      <td>2021-01-05</td>\n",
       "      <td>C</td>\n",
       "    </tr>\n",
       "    <tr>\n",
       "      <th>...</th>\n",
       "      <td>...</td>\n",
       "      <td>...</td>\n",
       "    </tr>\n",
       "    <tr>\n",
       "      <th>360</th>\n",
       "      <td>2021-12-27</td>\n",
       "      <td>A</td>\n",
       "    </tr>\n",
       "    <tr>\n",
       "      <th>361</th>\n",
       "      <td>2021-12-28</td>\n",
       "      <td>C</td>\n",
       "    </tr>\n",
       "    <tr>\n",
       "      <th>362</th>\n",
       "      <td>2021-12-29</td>\n",
       "      <td>A</td>\n",
       "    </tr>\n",
       "    <tr>\n",
       "      <th>363</th>\n",
       "      <td>2021-12-30</td>\n",
       "      <td>C</td>\n",
       "    </tr>\n",
       "    <tr>\n",
       "      <th>364</th>\n",
       "      <td>2021-12-31</td>\n",
       "      <td>C</td>\n",
       "    </tr>\n",
       "  </tbody>\n",
       "</table>\n",
       "<p>365 rows × 2 columns</p>\n",
       "</div>"
      ],
      "text/plain": [
       "          date variant\n",
       "0   2021-01-01       A\n",
       "1   2021-01-02       A\n",
       "2   2021-01-03       B\n",
       "3   2021-01-04       B\n",
       "4   2021-01-05       C\n",
       "..         ...     ...\n",
       "360 2021-12-27       A\n",
       "361 2021-12-28       C\n",
       "362 2021-12-29       A\n",
       "363 2021-12-30       C\n",
       "364 2021-12-31       C\n",
       "\n",
       "[365 rows x 2 columns]"
      ]
     },
     "execution_count": 2,
     "metadata": {},
     "output_type": "execute_result"
    }
   ],
   "source": [
    "df"
   ]
  },
  {
   "cell_type": "code",
   "execution_count": 15,
   "id": "673a8065-d89f-4892-96fb-36425a1aedad",
   "metadata": {},
   "outputs": [],
   "source": [
    "sample_indx = np.random.choice(np.arange(244, 365), size = 60)"
   ]
  },
  {
   "cell_type": "code",
   "execution_count": 20,
   "id": "c07aea0f-3e20-4561-a1bc-e257040c7acd",
   "metadata": {},
   "outputs": [],
   "source": [
    "df.loc[sample_indx, 'variant'] = np.random.choice(['F', 'G'], p=[0.7, 0.3], size=len(sample_indx))"
   ]
  },
  {
   "cell_type": "code",
   "execution_count": 37,
   "id": "d4a3910c-fde4-44b4-a2c4-02066575a1af",
   "metadata": {},
   "outputs": [
    {
     "data": {
      "text/plain": [
       "array(['E', 'A', 'D', 'B', 'E', 'C', 'B', 'E', 'B', 'E', 'B', 'E', 'A',\n",
       "       'E', 'B', 'C', 'A', 'A', 'E', 'E', 'D', 'C', 'B', 'B', 'A', 'A',\n",
       "       'E', 'A', 'A', 'D', 'D', 'D', 'A', 'C', 'B', 'B', 'D', 'D', 'A',\n",
       "       'A', 'B', 'A', 'A', 'A', 'B', 'A', 'A', 'A', 'B', 'A', 'A', 'A',\n",
       "       'D', 'B', 'C', 'A', 'D', 'A', 'B', 'B', 'A', 'D', 'E', 'A', 'B',\n",
       "       'B', 'B', 'B', 'A', 'C', 'A', 'B', 'B', 'A', 'B', 'C', 'B', 'A',\n",
       "       'D', 'C', 'C', 'C', 'B', 'A', 'C', 'A', 'A', 'B', 'C', 'D', 'B',\n",
       "       'B', 'A', 'C', 'E', 'C', 'C', 'A', 'B', 'D', 'C', 'B', 'A', 'C',\n",
       "       'B', 'D', 'B', 'A', 'E', 'B', 'C', 'B', 'B', 'D', 'A', 'C', 'B',\n",
       "       'C', 'E', 'E', 'D', 'A', 'A', 'B', 'B', 'C', 'C', 'D', 'B', 'B',\n",
       "       'C', 'B', 'C', 'A', 'E', 'C', 'B', 'B', 'B', 'B', 'D', 'B', 'A',\n",
       "       'A', 'B', 'A', 'A', 'C', 'A', 'B', 'B', 'B', 'A', 'A', 'A', 'A',\n",
       "       'D', 'C', 'D', 'E', 'A', 'E', 'A', 'A', 'A', 'E', 'A', 'C', 'A',\n",
       "       'A', 'D', 'A', 'C', 'C', 'D', 'C', 'C', 'A', 'A', 'B', 'E', 'D',\n",
       "       'B', 'A', 'E', 'B', 'C', 'A', 'B', 'A', 'C', 'C', 'B', 'A', 'B',\n",
       "       'B', 'E', 'C', 'A', 'C', 'E', 'B', 'B', 'A', 'A', 'B', 'D', 'A',\n",
       "       'C', 'B', 'C', 'A', 'E', 'A', 'B', 'A', 'D', 'A', 'C', 'A', 'A',\n",
       "       'B', 'A', 'D', 'B', 'C', 'A', 'A', 'B', 'C', 'A', 'E', 'B', 'C',\n",
       "       'A', 'E', 'A', 'E', 'B', 'B', 'B', 'A', 'A', 'A', 'F', 'F', 'F',\n",
       "       'A', 'F', 'F', 'F', 'F', 'G', 'F', 'G', 'F', 'F', 'F', 'F', 'A',\n",
       "       'F', 'F', 'F', 'E', 'F', 'F', 'F', 'F', 'F', 'F', 'F', 'F', 'F',\n",
       "       'F', 'F', 'F', 'F', 'A', 'F', 'F', 'F', 'F', 'F', 'F', 'B', 'C',\n",
       "       'F', 'F', 'F', 'E', 'F', 'C', 'G', 'F', 'D', 'F', 'G', 'G', 'F',\n",
       "       'F', 'A', 'F', 'D', 'G', 'E', 'G', 'F', 'F', 'C', 'F', 'F', 'F',\n",
       "       'F', 'C', 'G', 'F', 'B', 'F', 'F', 'F', 'E', 'G', 'F', 'F', 'F',\n",
       "       'A', 'F', 'D', 'B', 'F', 'F', 'F', 'F', 'F', 'F', 'F', 'F', 'F',\n",
       "       'F', 'F', 'B', 'F', 'F', 'G', 'F', 'E', 'F', 'F', 'F', 'F', 'F',\n",
       "       'A', 'F', 'F', 'C', 'F', 'B', 'F', 'B', 'C', 'F', 'B', 'E', 'F',\n",
       "       'F'], dtype=object)"
      ]
     },
     "execution_count": 37,
     "metadata": {},
     "output_type": "execute_result"
    }
   ],
   "source": [
    "# df.variant = \\\n",
    "np.where(\n",
    "    (df.date > '2021-09') & (np.random.uniform(size = len(df)) < 0.6), \n",
    "    np.random.choice(['F', 'G']), \n",
    "    df.variant)"
   ]
  },
  {
   "cell_type": "markdown",
   "id": "6cbdd5d4-5353-49a5-9147-233a59619ad5",
   "metadata": {},
   "source": [
    "<span style='color:#ffcc00;'>Dark Yellow</span>"
   ]
  },
  {
   "cell_type": "code",
   "execution_count": null,
   "id": "73403f59-e2d6-4613-babc-c9326430e430",
   "metadata": {},
   "outputs": [],
   "source": []
  }
 ],
 "metadata": {
  "kernelspec": {
   "display_name": "Python 3 (ipykernel)",
   "language": "python",
   "name": "python3"
  },
  "language_info": {
   "codemirror_mode": {
    "name": "ipython",
    "version": 3
   },
   "file_extension": ".py",
   "mimetype": "text/x-python",
   "name": "python",
   "nbconvert_exporter": "python",
   "pygments_lexer": "ipython3",
   "version": "3.9.7"
  }
 },
 "nbformat": 4,
 "nbformat_minor": 5
}
